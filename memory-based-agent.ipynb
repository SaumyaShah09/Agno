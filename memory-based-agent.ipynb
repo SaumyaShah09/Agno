{
 "cells": [
  {
   "metadata": {
    "ExecuteTime": {
     "end_time": "2025-05-29T05:06:13.112691Z",
     "start_time": "2025-05-29T05:06:13.101223Z"
    }
   },
   "cell_type": "code",
   "source": [
    "import os\n",
    "from dotenv import load_dotenv\n",
    "load_dotenv()\n",
    "groq = os.getenv(\"GROQ_API_KEY\")\n"
   ],
   "id": "df4c78eef142c631",
   "outputs": [],
   "execution_count": 1
  },
  {
   "metadata": {
    "ExecuteTime": {
     "end_time": "2025-05-29T05:06:15.367120Z",
     "start_time": "2025-05-29T05:06:13.836032Z"
    }
   },
   "cell_type": "code",
   "source": [
    "from agno.agent.agent import Agent\n",
    "from agno.memory.v2.db.sqlite import SqliteMemoryDb\n",
    "from agno.memory.v2.memory import Memory\n",
    "from agno.models.groq import Groq\n",
    "from agno.storage.sqlite import SqliteStorage\n",
    "\n",
    "# Initialize memory DB and Memory\n",
    "memory_db = SqliteMemoryDb(table_name=\"memory\", db_file=\"tmp/memory.db\")\n",
    "memory = Memory(db=memory_db)\n"
   ],
   "id": "884ef2620e4ac23f",
   "outputs": [],
   "execution_count": 2
  },
  {
   "metadata": {
    "ExecuteTime": {
     "end_time": "2025-05-29T05:06:15.641229Z",
     "start_time": "2025-05-29T05:06:15.629793Z"
    }
   },
   "cell_type": "code",
   "source": [
    "session_id = \"1\"\n",
    "user_id = \"abc@example.com\"\n",
    "\n",
    "agent = Agent(\n",
    "    model=Groq(id=\"llama3-70b-8192\"),\n",
    "    memory=memory,\n",
    "    storage=SqliteStorage(table_name=\"agent_sessions\",db_file=\"tmp/persistent_memory.db\"),\n",
    "    enable_user_memories=True,\n",
    ")"
   ],
   "id": "564237d4a5eae60",
   "outputs": [],
   "execution_count": 3
  },
  {
   "metadata": {
    "ExecuteTime": {
     "end_time": "2025-05-29T05:06:59.558499Z",
     "start_time": "2025-05-29T05:06:15.681807Z"
    }
   },
   "cell_type": "code",
   "source": [
    "agent.print_response(\n",
    "    \"My name is Saumya and my favourite language is python and my favourite code editor is pycharm.\",\n",
    "    stream=True,\n",
    "    user_id=user_id,\n",
    "    session_id=session_id,\n",
    ")\n"
   ],
   "id": "3d30f963afcdca6f",
   "outputs": [
    {
     "data": {
      "text/plain": [
       "Output()"
      ],
      "application/vnd.jupyter.widget-view+json": {
       "version_major": 2,
       "version_minor": 0,
       "model_id": "e72141c3520949b2853523ab6598a794"
      }
     },
     "metadata": {},
     "output_type": "display_data"
    },
    {
     "data": {
      "text/plain": [],
      "text/html": [
       "<pre style=\"white-space:pre;overflow-x:auto;line-height:normal;font-family:Menlo,'DejaVu Sans Mono',consolas,'Courier New',monospace\"></pre>\n"
      ]
     },
     "metadata": {},
     "output_type": "display_data"
    }
   ],
   "execution_count": 4
  },
  {
   "metadata": {
    "ExecuteTime": {
     "end_time": "2025-05-29T05:07:10.005316Z",
     "start_time": "2025-05-29T05:06:59.656976Z"
    }
   },
   "cell_type": "code",
   "source": [
    "response = agent.run(\n",
    "    \"What is my name?\",\n",
    "    stream=False,\n",
    "    user_id=user_id,\n",
    "    session_id=session_id,\n",
    ")\n",
    "print(response.content)\n"
   ],
   "id": "77361c5b06df737c",
   "outputs": [
    {
     "name": "stdout",
     "output_type": "stream",
     "text": [
      "I remember! Your name is Saumya.\n"
     ]
    }
   ],
   "execution_count": 5
  },
  {
   "metadata": {
    "ExecuteTime": {
     "end_time": "2025-05-29T05:08:02.944225Z",
     "start_time": "2025-05-29T05:07:10.107822Z"
    }
   },
   "cell_type": "code",
   "source": [
    "response = agent.run(\n",
    "    \"Which is my favourite editor?\",\n",
    "    stream=False,\n",
    "    user_id=user_id,\n",
    "    session_id=session_id,\n",
    ")\n",
    "print(response.content  )\n"
   ],
   "id": "34eb70a1ff39f6fe",
   "outputs": [
    {
     "name": "stdout",
     "output_type": "stream",
     "text": [
      "I remember! Your favourite code editor is PyCharm!\n"
     ]
    }
   ],
   "execution_count": 6
  }
 ],
 "metadata": {
  "kernelspec": {
   "display_name": "Python 3",
   "language": "python",
   "name": "python3"
  },
  "language_info": {
   "codemirror_mode": {
    "name": "ipython",
    "version": 2
   },
   "file_extension": ".py",
   "mimetype": "text/x-python",
   "name": "python",
   "nbconvert_exporter": "python",
   "pygments_lexer": "ipython2",
   "version": "2.7.6"
  }
 },
 "nbformat": 4,
 "nbformat_minor": 5
}
