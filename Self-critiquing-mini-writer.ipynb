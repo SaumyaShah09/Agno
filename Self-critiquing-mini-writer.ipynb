{
 "cells": [
  {
   "metadata": {
    "ExecuteTime": {
     "end_time": "2025-05-29T06:46:45.593573Z",
     "start_time": "2025-05-29T06:46:45.332613Z"
    }
   },
   "cell_type": "code",
   "source": [
    "import os\n",
    "from dotenv import load_dotenv\n",
    "load_dotenv()\n",
    "groq = os.getenv(\"GROQ_API_KEY\")\n"
   ],
   "id": "c033dd9428c4b043",
   "outputs": [],
   "execution_count": 4
  },
  {
   "metadata": {
    "ExecuteTime": {
     "end_time": "2025-05-29T06:46:45.738187Z",
     "start_time": "2025-05-29T06:46:45.722610Z"
    }
   },
   "cell_type": "code",
   "source": [
    "from agno.agent import Agent\n",
    "from agno.models.groq import Groq\n"
   ],
   "id": "cb2813ec5cf0c4e3",
   "outputs": [],
   "execution_count": 5
  },
  {
   "metadata": {
    "ExecuteTime": {
     "end_time": "2025-05-29T06:46:54.641805Z",
     "start_time": "2025-05-29T06:46:45.791579Z"
    }
   },
   "cell_type": "code",
   "source": [
    "def blog_intro(topic: str) -> str:\n",
    "    agent = Agent(\n",
    "        model=Groq(id=\"llama3-70b-8192\")\n",
    "    )\n",
    "\n",
    "    draft = agent.run(\n",
    "        f\"make a blog introduction on {topic} it should be under 200 words \"\n",
    "    ).content\n",
    "\n",
    "    critique = agent.run(\n",
    "        f\"make a precise, highly engaging introduction also improve the tone and clarity , also make sure that it should be under 200 words {draft}\"\n",
    "    ).content\n",
    "\n",
    "    return critique\n",
    "\n",
    "if __name__ ==  \"__main__\":\n",
    "    topic = input(\"Enter the topic for the blog post:\")\n",
    "    print(\"Blog Introduction \\n\")\n",
    "    print(blog_intro(topic))\n",
    "\n"
   ],
   "id": "dbc759893b8f1d69",
   "outputs": [
    {
     "name": "stdout",
     "output_type": "stream",
     "text": [
      "Blog Introduction \n",
      "\n",
      "Here's a rewritten introduction that's more engaging, clear, and concise:\n",
      "\n",
      "\"Get ready to unleash the power of Python! As one of the most versatile and in-demand languages, Python is redefining the way developers, data scientists, and analysts work. With its effortless syntax, adaptable nature, and limitless scalability, Python is the perfect canvas for bringing any idea to life. From crafting web applications to machine learning models, and automating tedious tasks, Python's extensive library of tools and frameworks has got you covered.\n",
      "\n",
      "In this blog, we'll take you on a thrilling journey through the world of Python, exploring the latest trends, techniques, and innovative applications. Whether you're a beginner looking to dive in or a seasoned pro seeking to upskill, our mission is to inspire, educate, and empower you to unlock the full potential of Python. Buckle up, and let's dive in!\"\n"
     ]
    }
   ],
   "execution_count": 6
  }
 ],
 "metadata": {
  "kernelspec": {
   "display_name": "Python 3",
   "language": "python",
   "name": "python3"
  },
  "language_info": {
   "codemirror_mode": {
    "name": "ipython",
    "version": 2
   },
   "file_extension": ".py",
   "mimetype": "text/x-python",
   "name": "python",
   "nbconvert_exporter": "python",
   "pygments_lexer": "ipython2",
   "version": "2.7.6"
  }
 },
 "nbformat": 4,
 "nbformat_minor": 5
}
